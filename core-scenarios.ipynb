{
 "cells": [
  {
   "attachments": {},
   "cell_type": "markdown",
   "metadata": {},
   "source": [
    "## Setup"
   ]
  },
  {
   "cell_type": "markdown",
   "metadata": {},
   "source": [
    "### Import NuGet packages"
   ]
  },
  {
   "cell_type": "code",
   "execution_count": 2,
   "metadata": {
    "dotnet_interactive": {
     "language": "csharp"
    },
    "polyglot_notebook": {
     "kernelName": "csharp"
    }
   },
   "outputs": [
    {
     "data": {
      "text/html": [
       "<div><div></div><div></div><div><strong>Installed Packages</strong><ul><li><span>Microsoft.Extensions.Configuration, 7.0.0</span></li><li><span>Microsoft.Extensions.Configuration.Binder, 7.0.0</span></li><li><span>Microsoft.Extensions.Configuration.Json, 7.0.0</span></li><li><span>Microsoft.Extensions.Configuration.UserSecrets, 7.0.0</span></li><li><span>Microsoft.SemanticKernel, 1.0.0-beta2</span></li></ul></div></div>"
      ]
     },
     "metadata": {},
     "output_type": "display_data"
    }
   ],
   "source": [
    "#r \"nuget: Microsoft.SemanticKernel, 1.0.0-beta2\"\n",
    "#r \"nuget: Microsoft.Extensions.Configuration, 7.0.0\"\n",
    "#r \"nuget: Microsoft.Extensions.Configuration.Binder, 7.0.0\"\n",
    "#r \"nuget: Microsoft.Extensions.Configuration.Json, 7.0.0\"\n",
    "#r \"nuget: Microsoft.Extensions.Configuration.UserSecrets, 7.0.0\"\n",
    "\n",
    "#!import config/Env.cs\n"
   ]
  },
  {
   "cell_type": "markdown",
   "metadata": {},
   "source": [
    "### Add using statements"
   ]
  },
  {
   "cell_type": "code",
   "execution_count": null,
   "metadata": {
    "dotnet_interactive": {
     "language": "csharp"
    },
    "polyglot_notebook": {
     "kernelName": "csharp"
    }
   },
   "outputs": [],
   "source": [
    "using System.IO;\n",
    "using Microsoft.Extensions.Logging;\n",
    "using Microsoft.SemanticKernel;\n",
    "using Microsoft.SemanticKernel.Orchestration;\n",
    "using Microsoft.SemanticKernel.Planning;\n",
    "using Microsoft.SemanticKernel.Plugins.Core;\n",
    "using Microsoft.SemanticKernel.AI.ChatCompletion;\n",
    "using Microsoft.SemanticKernel.Planners;\n",
    "\n",
    "string pluginsDirectory = Path.Combine(Directory.GetCurrentDirectory(), \"plugins\");"
   ]
  },
  {
   "cell_type": "markdown",
   "metadata": {},
   "source": [
    "## 1 Basic function running"
   ]
  },
  {
   "attachments": {},
   "cell_type": "markdown",
   "metadata": {},
   "source": [
    "### 1.1 Run native function"
   ]
  },
  {
   "cell_type": "code",
   "execution_count": 16,
   "metadata": {
    "dotnet_interactive": {
     "language": "csharp"
    },
    "polyglot_notebook": {
     "kernelName": "csharp"
    }
   },
   "outputs": [
    {
     "name": "stdout",
     "output_type": "stream",
     "text": [
      "Tuesday, October 17, 2023\n"
     ]
    }
   ],
   "source": [
    "// Create a simple kernel with a single plugin\n",
    "IKernel kernel = new KernelBuilder()\n",
    "    //.WithFunctions(new TimePlugin(), \"TimePlugin\")\n",
    "    .Build();\n",
    "\n",
    "// TODO: this should be part of the kernel builder\n",
    "kernel.ImportFunctions(new TimePlugin(), \"TimePlugin\");\n",
    "\n",
    "KernelResult result = await kernel.RunAsync(\n",
    "    kernel.Functions.GetFunction(\"TimePlugin\", \"Today\")\n",
    ");\n",
    "\n",
    "// TODO: need a way to simplify this, for example:\n",
    "// KernelResult result = await kernel.RunAsync(\n",
    "//     \"TimePlugin.Today\"\n",
    "// );\n",
    "\n",
    "Console.WriteLine(result.GetValue<string>());\n",
    "\n",
    "// TODO: need a way to simplify this, for example:\n",
    "Console.WriteLine(result);"
   ]
  },
  {
   "cell_type": "markdown",
   "metadata": {},
   "source": [
    "### 1.2 Running functions from OpenAI plugins"
   ]
  },
  {
   "cell_type": "code",
   "execution_count": null,
   "metadata": {
    "dotnet_interactive": {
     "language": "csharp"
    },
    "polyglot_notebook": {
     "kernelName": "csharp"
    }
   },
   "outputs": [],
   "source": []
  },
  {
   "attachments": {},
   "cell_type": "markdown",
   "metadata": {},
   "source": [
    "### 1.3 Running a semantic function"
   ]
  },
  {
   "cell_type": "code",
   "execution_count": 4,
   "metadata": {
    "dotnet_interactive": {
     "language": "csharp"
    },
    "polyglot_notebook": {
     "kernelName": "csharp"
    }
   },
   "outputs": [
    {
     "name": "stdout",
     "output_type": "stream",
     "text": [
      "Hello world, how do you do?\n",
      "I'm just a program, not a kangaroo.\n",
      "I'm here to help, to answer your call,\n",
      "So don't be shy, just give me a holler! \n",
      "\n",
      "But if you're feeling down and blue,\n",
      "And need a laugh or two,\n",
      "Just remember this silly rhyme,\n",
      "And know that everything will be just fine!\n"
     ]
    }
   ],
   "source": [
    "string AzureOpenAIDeploymentName = Env.Var(\"AzureOpenAI:ChatCompletionDeploymentName\")!;\n",
    "string AzureOpenAIEndpoint = Env.Var(\"AzureOpenAI:Endpoint\")!;\n",
    "string AzureOpenAIApiKey = Env.Var(\"AzureOpenAI:ApiKey\")!;\n",
    "\n",
    "// Create a kernel with an AI service\n",
    "IKernel kernel = new KernelBuilder()\n",
    "    .WithAzureChatCompletionService(\n",
    "        AzureOpenAIDeploymentName,  // The name of your deployment (e.g., \"gpt-35-turbo\")\n",
    "        AzureOpenAIEndpoint,        // The endpoint of your Azure OpenAI service\n",
    "        AzureOpenAIApiKey           // The API key of your Azure OpenAI service\n",
    "    )\n",
    "    //.WithSemanticFunctionsFromDirectory(pluginsDirectory, \"WriterPlugin\")\n",
    "    .Build();\n",
    "\n",
    "// TODO: This should be part of the kernel builder\n",
    "kernel.ImportSemanticFunctionsFromDirectory(pluginsDirectory, \"WriterPlugin\");\n",
    "\n",
    "KernelResult result = await kernel.RunAsync(\n",
    "    \"Hello world\",\n",
    "    kernel.Functions.GetFunction(\"WriterPlugin\", \"ShortPoem\")\n",
    ");\n",
    "\n",
    "// TODO: need a way to simplify this\n",
    "// KernelResult result = await kernel.RunAsync(\n",
    "//     \"WriterPlugin.ShortPoem\"\n",
    "//     context: { \"input\": \"Hello world\" }\n",
    "// );\n",
    "\n",
    "Console.WriteLine(result.GetValue<string>());\n",
    "\n",
    "// TODO: need a way to simplify this, for example:\n",
    "Console.WriteLine(result);"
   ]
  },
  {
   "attachments": {},
   "cell_type": "markdown",
   "metadata": {},
   "source": [
    "## 1.4 Running the _same_ semantic function with different runtime settings"
   ]
  },
  {
   "cell_type": "code",
   "execution_count": 14,
   "metadata": {
    "dotnet_interactive": {
     "language": "csharp"
    },
    "polyglot_notebook": {
     "kernelName": "csharp"
    }
   },
   "outputs": [
    {
     "name": "stdout",
     "output_type": "stream",
     "text": [
      "Result 1:\n",
      "Hello world, how do you do?\n",
      "I'm just a program, it's nice to meet you!\n",
      "I may not have arms or legs or a face,\n",
      "But I can help you with tasks at a rapid pace.\n",
      "\n",
      "I'll greet you each time you start up your machine,\n",
      "And help you navigate through the digital scene.\n",
      "So don't be shy, give me a shout,\n",
      "Hello world, let's figure things out!\n",
      "\n",
      "Result 2:\n",
      "There once was a phrase so bold,\n",
      "That in coding, it often was told,\n",
      "\"Hello world,\" it would say,\n",
      "In a cheeky display,\n",
      "As the screen lit up bright and consoled.\n"
     ]
    }
   ],
   "source": [
    "string AzureOpenAIDeploymentName = Env.Var(\"AzureOpenAI:ChatCompletionDeploymentName\")!;\n",
    "string AzureOpenAIEndpoint = Env.Var(\"AzureOpenAI:Endpoint\")!;\n",
    "string AzureOpenAIApiKey = Env.Var(\"AzureOpenAI:ApiKey\")!;\n",
    "\n",
    "// TODO: Allow creation of semantic function w/o a kernel\n",
    "// SemanticFunction function = new SemanticFunction();\n",
    "\n",
    "IKernel kernel_1 = new KernelBuilder()\n",
    "    .WithAzureChatCompletionService(\n",
    "        AzureOpenAIDeploymentName,  // The name of your deployment (e.g., \"gpt-35-turbo\")\n",
    "        AzureOpenAIEndpoint,        // The endpoint of your Azure OpenAI service\n",
    "        AzureOpenAIApiKey           // The API key of your Azure OpenAI service\n",
    "    )\n",
    "    // TODO: Should be able to import existing function\n",
    "    //.WithFunctions(function)\n",
    "    .Build();\n",
    "\n",
    "IKernel kernel_2 = new KernelBuilder()\n",
    "    .WithAzureChatCompletionService(\n",
    "        \"gpt-4\",\n",
    "        AzureOpenAIEndpoint,        // The endpoint of your Azure OpenAI service\n",
    "        AzureOpenAIApiKey           // The API key of your Azure OpenAI service\n",
    "    )\n",
    "    // TODO: Should be able to import existing function with model overrides\n",
    "    //.WithFunctions(function, new ModelOverrides { ModelId = \"gpt-4\", Temperature = 0.5 })\n",
    "    .Build();\n",
    "\n",
    "// TODO: This should be part of the kernel builder\n",
    "kernel_1.ImportSemanticFunctionsFromDirectory(pluginsDirectory, \"WriterPlugin\");\n",
    "kernel_2.ImportSemanticFunctionsFromDirectory(pluginsDirectory, \"WriterPlugin\");\n",
    "\n",
    "KernelResult result_1 = await kernel_1.RunAsync(\n",
    "    \"Hello world\",\n",
    "    kernel_1.Functions.GetFunction(\"WriterPlugin\", \"ShortPoem\")\n",
    ");\n",
    "\n",
    "KernelResult result_2 = await kernel_2.RunAsync(\n",
    "    \"Hello world\",\n",
    "    kernel_2.Functions.GetFunction(\"WriterPlugin\", \"ShortPoem\")\n",
    ");\n",
    "\n",
    "// TODO: should also have a way override during RunAsync\n",
    "// KernelResult result_3 = await kernel.RunAsync(\n",
    "//     \"WriterPlugin.ShortPoem input\"\n",
    "//     context: { \"input\": \"Hello world\" }\n",
    "//     modelOverrides: new ModelOverrides { Function:\"WriterPlugin.ShortPoem\", ModelId = \"gpt-4\", Temperature = 0.5 }\n",
    "// );\n",
    "\n",
    "// Compre the results\n",
    "Console.WriteLine(\"Result 1:\\n\" + result_1.GetValue<string>());\n",
    "Console.WriteLine(\"\\nResult 2:\\n\" + result_2.GetValue<string>());"
   ]
  },
  {
   "cell_type": "markdown",
   "metadata": {},
   "source": [
    "### 1.5 Running image generation "
   ]
  },
  {
   "cell_type": "markdown",
   "metadata": {},
   "source": []
  },
  {
   "cell_type": "markdown",
   "metadata": {},
   "source": [
    "### 1.6 Running audio generation"
   ]
  },
  {
   "cell_type": "code",
   "execution_count": null,
   "metadata": {
    "dotnet_interactive": {
     "language": "csharp"
    },
    "polyglot_notebook": {
     "kernelName": "csharp"
    }
   },
   "outputs": [],
   "source": []
  },
  {
   "cell_type": "markdown",
   "metadata": {},
   "source": [
    "### 1.7 Streaming functions"
   ]
  },
  {
   "cell_type": "code",
   "execution_count": null,
   "metadata": {
    "dotnet_interactive": {
     "language": "csharp"
    },
    "polyglot_notebook": {
     "kernelName": "csharp"
    }
   },
   "outputs": [],
   "source": []
  },
  {
   "cell_type": "markdown",
   "metadata": {},
   "source": [
    "## 2 Manually chaining functions together"
   ]
  },
  {
   "cell_type": "markdown",
   "metadata": {},
   "source": [
    "### 2.1 Using the kernel"
   ]
  },
  {
   "cell_type": "code",
   "execution_count": 15,
   "metadata": {
    "dotnet_interactive": {
     "language": "csharp"
    },
    "polyglot_notebook": {
     "kernelName": "csharp"
    }
   },
   "outputs": [
    {
     "name": "stdout",
     "output_type": "stream",
     "text": [
      "On Tuesday, October 17, 2023,\n",
      "The world was filled with glee,\n",
      "For it was National Dance Like a Chicken Day,\n",
      "And everyone was ready to sway.\n",
      "\n",
      "People flapped their wings and did the shuffle,\n",
      "Some even did it with a truffle,\n",
      "The streets were filled with clucks and squawks,\n",
      "And everyone was having a ball, no mocks.\n",
      "\n",
      "So if you see someone doing the chicken dance,\n",
      "Don't be shy, just take a chance,\n",
      "Join in the fun and flap your wings,\n",
      "And dance like a chicken, it's the best thing!\n"
     ]
    }
   ],
   "source": [
    "string AzureOpenAIDeploymentName = Env.Var(\"AzureOpenAI:ChatCompletionDeploymentName\")!;\n",
    "string AzureOpenAIEndpoint = Env.Var(\"AzureOpenAI:Endpoint\")!;\n",
    "string AzureOpenAIApiKey = Env.Var(\"AzureOpenAI:ApiKey\")!;\n",
    "\n",
    "IKernel kernel = new KernelBuilder()\n",
    "    .WithAzureChatCompletionService(\n",
    "        AzureOpenAIDeploymentName,  // The name of your deployment (e.g., \"gpt-35-turbo\")\n",
    "        AzureOpenAIEndpoint,        // The endpoint of your Azure OpenAI service\n",
    "        AzureOpenAIApiKey           // The API key of your Azure OpenAI service\n",
    "    )\n",
    "    //.WithSemanticFunctionsFromDirectory(pluginsDirectory, \"WriterPlugin\")\n",
    "    .Build();\n",
    "\n",
    "// TODO: This should be part of the kernel builder\n",
    "kernel.ImportSemanticFunctionsFromDirectory(pluginsDirectory, \"WriterPlugin\");\n",
    "kernel.ImportFunctions(new TimePlugin(), \"TimePlugin\");\n",
    "\n",
    "KernelResult result = await kernel.RunAsync(\n",
    "    kernel.Functions.GetFunction(\"TimePlugin\", \"Today\"),\n",
    "    kernel.Functions.GetFunction(\"WriterPlugin\", \"ShortPoem\")\n",
    ");\n",
    "\n",
    "// TODO: need a way to explicitely pass variables, for example:\n",
    "// KernelResult result = await kernel.RunAsync(\n",
    "//     \"TimePlugin.Today as | today |\"\n",
    "//     \"WriterPlugin.ShortPoem today\"\n",
    "// );\n",
    "\n",
    "Console.WriteLine(result.GetValue<string>());"
   ]
  },
  {
   "cell_type": "markdown",
   "metadata": {},
   "source": [
    "### 2.2 Using a plan"
   ]
  },
  {
   "cell_type": "code",
   "execution_count": 7,
   "metadata": {
    "dotnet_interactive": {
     "language": "csharp"
    },
    "polyglot_notebook": {
     "kernelName": "csharp"
    }
   },
   "outputs": [
    {
     "name": "stdout",
     "output_type": "stream",
     "text": [
      "On Tuesday, October 17, 2023,\n",
      "The world was filled with glee,\n",
      "For it was National Dance Like a Chicken Day,\n",
      "And everyone was ready to sway.\n",
      "\n",
      "People flapped their wings and did the shuffle,\n",
      "Some even did it with a truffle,\n",
      "The streets were filled with clucks and squawks,\n",
      "And everyone was having a ball, no mocks.\n",
      "\n",
      "So if you see someone doing the chicken dance,\n",
      "Don't be shy, just take a chance,\n",
      "Join in the fun and flap your wings,\n",
      "And dance like a chicken, it's the best thing!\n"
     ]
    }
   ],
   "source": [
    "string AzureOpenAIDeploymentName = Env.Var(\"AzureOpenAI:ChatCompletionDeploymentName\")!;\n",
    "string AzureOpenAIEndpoint = Env.Var(\"AzureOpenAI:Endpoint\")!;\n",
    "string AzureOpenAIApiKey = Env.Var(\"AzureOpenAI:ApiKey\")!;\n",
    "\n",
    "IKernel kernel = new KernelBuilder()\n",
    "    .WithAzureChatCompletionService(\n",
    "        AzureOpenAIDeploymentName,  // The name of your deployment (e.g., \"gpt-35-turbo\")\n",
    "        AzureOpenAIEndpoint,        // The endpoint of your Azure OpenAI service\n",
    "        AzureOpenAIApiKey           // The API key of your Azure OpenAI service\n",
    "    )\n",
    "    //.WithSemanticFunctionsFromDirectory(pluginsDirectory, \"WriterPlugin\")\n",
    "    .Build();\n",
    "\n",
    "// TODO: This should be part of the kernel builder\n",
    "kernel.ImportSemanticFunctionsFromDirectory(pluginsDirectory, \"WriterPlugin\");\n",
    "kernel.ImportFunctions(new TimePlugin(), \"TimePlugin\");\n",
    "\n",
    "// TODO: Create empty constructor for Plan\n",
    "Plan plan = new Plan(\"\");\n",
    "plan.AddSteps(\n",
    "    kernel.Functions.GetFunction(\"TimePlugin\", \"Today\"),\n",
    "    kernel.Functions.GetFunction(\"WriterPlugin\", \"ShortPoem\")\n",
    ");\n",
    "\n",
    "// TODO: need a way to pass variables, for example:\n",
    "// Plan plan = new Plan(\n",
    "//     \"TimePlugin.Today as | today |\"\n",
    "//     \"WriterPlugin.ShortPoem today\"\n",
    "// );\n",
    "\n",
    "KernelResult result = await kernel.RunAsync(plan);\n",
    "\n",
    "\n",
    "Console.WriteLine(result.GetValue<string>());"
   ]
  },
  {
   "cell_type": "markdown",
   "metadata": {},
   "source": [
    "### 2.3 Streaming functions with chaining "
   ]
  },
  {
   "cell_type": "code",
   "execution_count": null,
   "metadata": {
    "dotnet_interactive": {
     "language": "csharp"
    },
    "polyglot_notebook": {
     "kernelName": "csharp"
    }
   },
   "outputs": [],
   "source": []
  },
  {
   "cell_type": "markdown",
   "metadata": {},
   "source": [
    "### 2.4 Chaining functions with objects"
   ]
  },
  {
   "cell_type": "code",
   "execution_count": null,
   "metadata": {
    "dotnet_interactive": {
     "language": "csharp"
    },
    "polyglot_notebook": {
     "kernelName": "csharp"
    }
   },
   "outputs": [],
   "source": []
  },
  {
   "cell_type": "markdown",
   "metadata": {},
   "source": [
    "### 2.5 Multi-model chaining"
   ]
  },
  {
   "cell_type": "code",
   "execution_count": null,
   "metadata": {
    "dotnet_interactive": {
     "language": "csharp"
    },
    "polyglot_notebook": {
     "kernelName": "csharp"
    }
   },
   "outputs": [],
   "source": []
  },
  {
   "cell_type": "markdown",
   "metadata": {},
   "source": [
    "## 3 Using planners"
   ]
  },
  {
   "cell_type": "markdown",
   "metadata": {},
   "source": [
    "### 3.1 Using sequential planner"
   ]
  },
  {
   "cell_type": "code",
   "execution_count": 8,
   "metadata": {
    "dotnet_interactive": {
     "language": "csharp"
    },
    "polyglot_notebook": {
     "kernelName": "csharp"
    }
   },
   "outputs": [
    {
     "name": "stdout",
     "output_type": "stream",
     "text": [
      "Today is Tuesday, what a date!\n",
      "October 17, 2023, don't be late!\n",
      "The sun is shining, the birds are singing,\n",
      "It's a lovely fate, no need for clinging.\n",
      "\n",
      "The world is spinning, time is flying,\n",
      "But don't you worry, no need for crying.\n",
      "Just enjoy the day, have some fun,\n",
      "And before you know it, it's already done.\n",
      "\n",
      "So let's raise a glass, and give a cheer,\n",
      "For this lovely day, that's finally here.\n",
      "Let's make the most of it, and have a blast,\n",
      "Because Tuesday, October 17, 2023, is going to be a blast!\n"
     ]
    }
   ],
   "source": [
    "string AzureOpenAIDeploymentName = Env.Var(\"AzureOpenAI:ChatCompletionDeploymentName\")!;\n",
    "string AzureOpenAIEndpoint = Env.Var(\"AzureOpenAI:Endpoint\")!;\n",
    "string AzureOpenAIApiKey = Env.Var(\"AzureOpenAI:ApiKey\")!;\n",
    "\n",
    "IKernel kernel = new KernelBuilder()\n",
    "    .WithAzureChatCompletionService(\n",
    "        AzureOpenAIDeploymentName,  // The name of your deployment (e.g., \"gpt-35-turbo\")\n",
    "        AzureOpenAIEndpoint,        // The endpoint of your Azure OpenAI service\n",
    "        AzureOpenAIApiKey           // The API key of your Azure OpenAI service\n",
    "    )\n",
    "    //.WithSemanticFunctionsFromDirectory(pluginsDirectory, \"WriterPlugin\")\n",
    "    //.WithFunctions(new TimePlugin(), \"TimePlugin\")\n",
    "    .Build();\n",
    "\n",
    "// TODO: These should be part of the kernel builder\n",
    "kernel.ImportSemanticFunctionsFromDirectory(pluginsDirectory, \"WriterPlugin\");\n",
    "kernel.ImportFunctions(new TimePlugin(), \"TimePlugin\");\n",
    "\n",
    "SequentialPlanner planner = new SequentialPlanner(kernel);\n",
    "var ask = \"Can you write a poem about today's date?\";\n",
    "var plan = await planner.CreatePlanAsync(ask);\n",
    "\n",
    "KernelResult result = await kernel.RunAsync(plan);\n",
    "\n",
    "Console.WriteLine(result.GetValue<string>());"
   ]
  },
  {
   "cell_type": "markdown",
   "metadata": {},
   "source": [
    "### 3.2 Using stepwise planner"
   ]
  },
  {
   "cell_type": "code",
   "execution_count": 10,
   "metadata": {
    "dotnet_interactive": {
     "language": "csharp"
    },
    "polyglot_notebook": {
     "kernelName": "csharp"
    }
   },
   "outputs": [
    {
     "name": "stdout",
     "output_type": "stream",
     "text": [
      "Here's a short poem about today's date:\n",
      "\n",
      "It's Tuesday, October 17, 2023,\n",
      "A day that's just as good as can be,\n",
      "The sun is shining, the birds are singing,\n",
      "And the world is just a happy thing.\n",
      "\n",
      "But wait, what's that I hear you say?\n",
      "You're feeling down and out today?\n",
      "Well, don't you worry, don't you fret,\n",
      "Just take a deep breath and don't forget,\n",
      "\n",
      "That life is short and time is fleeting,\n",
      "So let's enjoy this day we're meeting,\n",
      "Let's laugh and love and have some fun,\n",
      "And make this Tuesday number one!\n"
     ]
    }
   ],
   "source": [
    "string AzureOpenAIDeploymentName = Env.Var(\"AzureOpenAI:ChatCompletionDeploymentName\")!;\n",
    "string AzureOpenAIEndpoint = Env.Var(\"AzureOpenAI:Endpoint\")!;\n",
    "string AzureOpenAIApiKey = Env.Var(\"AzureOpenAI:ApiKey\")!;\n",
    "\n",
    "IKernel kernel = new KernelBuilder()\n",
    "    .WithAzureChatCompletionService(\n",
    "        AzureOpenAIDeploymentName,  // The name of your deployment (e.g., \"gpt-35-turbo\")\n",
    "        AzureOpenAIEndpoint,        // The endpoint of your Azure OpenAI service\n",
    "        AzureOpenAIApiKey           // The API key of your Azure OpenAI service\n",
    "    )\n",
    "    //.WithSemanticFunctionsFromDirectory(pluginsDirectory, \"WriterPlugin\")\n",
    "    //.WithFunctions(new TimePlugin(), \"TimePlugin\")\n",
    "    .Build();\n",
    "\n",
    "// TODO: These should be part of the kernel builder\n",
    "kernel.ImportSemanticFunctionsFromDirectory(pluginsDirectory, \"WriterPlugin\");\n",
    "kernel.ImportFunctions(new TimePlugin(), \"TimePlugin\");\n",
    "\n",
    "StepwisePlanner planner = new StepwisePlanner(kernel);\n",
    "var ask = \"Can you write a poem about today's date?\";\n",
    "var plan = planner.CreatePlan(ask);\n",
    "\n",
    "KernelResult result = await kernel.RunAsync(plan);\n",
    "\n",
    "Console.WriteLine(result.GetValue<string>());"
   ]
  }
 ],
 "metadata": {
  "kernelspec": {
   "display_name": ".NET (C#)",
   "language": "C#",
   "name": ".net-csharp"
  },
  "language_info": {
   "name": "polyglot-notebook"
  },
  "polyglot_notebook": {
   "kernelInfo": {
    "defaultKernelName": "csharp",
    "items": [
     {
      "aliases": [],
      "name": "csharp"
     }
    ]
   }
  }
 },
 "nbformat": 4,
 "nbformat_minor": 2
}
